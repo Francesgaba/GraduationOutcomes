{
 "cells": [
  {
   "cell_type": "markdown",
   "id": "caff88b2",
   "metadata": {},
   "source": [
    "# Final Project Proposal\n",
    "By Ziqi Huang,Qing Dou"
   ]
  },
  {
   "cell_type": "markdown",
   "id": "7c9bc00d",
   "metadata": {},
   "source": [
    "## introduction\n",
    "The New York City Department of Education is the largest system of public schools in the United States, serving over a million students in more than 1,800 schools. The performance and demographic makeup of these schools are critical for policymakers, educators, and the community at large, as they reflect not only the effectiveness of educational strategies but also social and economic trends within the city's diverse population. Education outcomes such as graduation rates have profound implications for students' future employment opportunities, income levels, and socio-economic mobility. By examining detailed school-level demographics and accountability snapshots alongside graduation outcomes, researchers can identify patterns and disparities in educational achievement."
   ]
  },
  {
   "cell_type": "markdown",
   "id": "14756883",
   "metadata": {},
   "source": [
    "## Research Questions\n",
    "\n",
    "* What is the combined effect of school characteristics and student social backgrounds on graduation outcomes in New York City public schools?\n",
    "\n",
    "* How effectively can machine learning techniques, such as linear regression, predict graduation outcomes based on a school's demographic and accountability data？\n",
    "\n",
    "The first question explores how factors like special education program availability influence graduation rates. Insights from this study could help schools allocate resources more effectively, especially for students from less affluent backgrounds. Sub-questions will focus on the impact of income levels, ethnic backgrounds, gender differences, and the effectiveness of ELL and SPED programs.\n",
    "The second question aim to assess if machine learning models, such as linear regression, can accurately predict graduation rates. The goal is to identify the most effective model, which could then assist schools in better supporting at-risk students and optimizing graduation outcomes."
   ]
  },
  {
   "cell_type": "markdown",
   "id": "917be786",
   "metadata": {},
   "source": [
    "## Data to use\n",
    "To conduct our study, we will utilize two datasets from the New York City Department of Education available publicly on the NYC Open Data platform. The first dataset is titled \"2006-2012 School Demographics and Accountability Snapshot.\" and the second is \"2005-2010 Graduation Outcomes - School Level.\" These datasets encompass a wealth of information ranging from enrollment numbers and demographics to graduation outcomes for NYC public schools.\n",
    "\n",
    "| Information of dataset                  | Value                                                                                              |\n",
    "|-----------------------------------------|----------------------------------------------------------------------------------------------------|\n",
    "| Name of dataset                         | 2006-2012 School Demographics and Accountability Snapshot                                          |\n",
    "| Data source                             | [NYC Open Data (School Demographics)](https://data.cityofnewyork.us/Education/2006-2012-School-Demographics-and-Accountability-S/ihfw-zy9j)  |\n",
    "| Data collection time                    | 2006-2012                                                                                         |\n",
    "| Data format                             | CSV files, downloadable from the NYC Open Data platform                                            |\n",
    "| Number of schools covered               | All NYC public schools represented in the dataset                                                  |\n",
    "| Update Frequency |Annually |\n",
    "| Data language type                      | English                                                                                            |\n",
    "\n",
    "\n",
    "\n",
    "\n",
    "* Data Dictionary \n",
    "| Column Name        | Column Description                                        |\n",
    "|--------------------|-----------------------------------------------------------|\n",
    "| DBN                | District, Borough and school number                       |\n",
    "| Name               | School name                                               |\n",
    "| Schoolyear         | School Year                                               |\n",
    "| fl_percent         | Free lunch                                                |\n",
    "| frl_percent        | Free and reduced lunch                                    |\n",
    "| total_enrollment   | Total enrollment count of students for all grades         |\n",
    "| prek               | Total count of pre-kindergarten students                  |\n",
    "| k                   | Total count of kindergarten students                      |\n",
    "| grade 1            | Total count of 1st grade students                         |\n",
    "| grade 2            | Total count of 2nd grade students                         |\n",
    "| grade 3            | Total count of 3rd grade students                         |\n",
    "| grade 4            | Total count of 4th grade students                         |\n",
    "| grade 5            | Total count of 5th grade students                         |\n",
    "| grade 6            | Total count of 6th grade students                         |\n",
    "| grade 7            | Total count of 7th grade students                         |\n",
    "| grade 8            | Total count of 8th grade students                         |\n",
    "| grade 9            | Total count of 9th grade students                         |\n",
    "| grade 10           | Total count of 10th grade students                        |\n",
    "| grade 11           | Total count of 11th grade students                        |\n",
    "| grade 12           | Total count of 12th grade students                        |\n",
    "| ell_num            | Total number of English language learners classes         |\n",
    "| ell_percent        | Percentage of English language learner's students         |\n",
    "| sped_num           | Total number of students in special education             |\n",
    "| sped_percent       | Percentage of special education students                  |\n",
    "| ctt_num            | Total number of students in collaborative teaching classes|\n",
    "| selfcontained_num  | Total number of students in self-contained special classes|\n",
    "| asian_num          | Total number of Asian students                            |\n",
    "| asian_per          | Percentage of Asian students                              |\n",
    "| black_num          | Total number of Black students                            |\n",
    "| black_per          | Percentage of Black students                              |\n",
    "| hispanic_num       | Total number of Hispanic students                         |\n",
    "| hispanic_per       | Percentage of Hispanic students                           |\n",
    "| white_num          | Total number of White students                            |\n",
    "| white_per          | Percentage of White students                              |\n",
    "| male_num           | Total number of male students                             |\n",
    "| male_per           | Percentage of male students                               |\n",
    "| female_num         | Total number of female students                           |\n",
    "| female_per         | Percentage of female students                             |\n",
    "\n",
    "\n",
    "| Information of dataset                  | Value                                                                                              |\n",
    "|-----------------------------------------|----------------------------------------------------------------------------------------------------|\n",
    "| Name of dataset                         | 2005-2010 Graduation Outcomes - School Level                                                       |\n",
    "| Data source                             | [NYC Open Data (Graduation Outcomes)](https://data.cityofnewyork.us/Education/2005-2010-Graduation-Outcomes-School-Level/vh2h-md7a)            |\n",
    "| Data collection time                    | 2005-2010                                                                                         |\n",
    "| Data format                             | CSV files, downloadable from the NYC Open Data platform                                            |\n",
    "| Number of schools covered               | All NYC public schools represented in the dataset                                                  |\n",
    "| Data language type                      | English                                                                                            |\n",
    "\n",
    "\n",
    "| Column Name                     | Column Description                                        |\n",
    "|---------------------------------|----------------------------------------------------------|\n",
    "| Demographic                     | Student's demographic information                        |\n",
    "| DBN                             | District, Borough and school number                       |\n",
    "| School Name                     | Name of school                                            |\n",
    "| Cohort                          | School year test was administered                         |\n",
    "| Total Cohort                    | Total number of students who took test                    |\n",
    "| Total Grads - n                 | Reflects the total number of students who graduated       |\n",
    "| Total Grads - % of Cohort       | Reflects the total percentage of students who graduated   |\n",
    "| Total Regents- n                | Total number of student who took Regents                  |\n",
    "| Total Regents - % of Cohort     | Percentages of total Cohorts who passed regents exam      |\n",
    "| Total Regents - % of Grads      | Percentages of total Cohorts who passed regents and graduated |\n",
    "| Advanced Regents - n            | Total number of student who passed advanced regents exams |\n",
    "| Advanced Regents - % of Cohort  | Percentages of total Cohorts who passed advanced regents  |\n",
    "| Advanced Regents - % of Grads   | Percentages of total Cohorts who passed advanced regents and graduated |\n",
    "| Regents w/o Advanced - n        | Total number of students who passed non-advanced regents exams |\n",
    "| Regents w/o Advanced - % of Cohort | Percentages of total Cohorts who passed non-advanced regents exams |\n",
    "| Regents w/o Advanced - % of Grads | Percentages of total Cohorts who passed non-advanced regents and graduated |\n",
    "| Local - n                       | Total number of students received a local diploma         |\n",
    "| Local - % of Cohort             | Percentage of total Cohorts who received a local diploma  |\n",
    "| Local - % of Grads              | Percentage of total Cohorts who graduated with a local diploma |\n",
    "| Still Enrolled - n              | Total number of students still enrolled                   |\n",
    "| Still Enrolled - % of Cohort    | Percentage of total Cohorts students still enrolled       |\n",
    "| Dropped Out - n                 | Total number of students who dropped out                  |\n",
    "| Dropped Out - % of Cohort       | Percentage of total Cohorts students who dropped out      |\n",
    "\n"
   ]
  },
  {
   "cell_type": "markdown",
   "id": "b564f404",
   "metadata": {},
   "source": [
    "## Approach"
   ]
  },
  {
   "cell_type": "markdown",
   "id": "238717f5",
   "metadata": {},
   "source": [
    "To explore how school characteristics and student graduation outcomes are related in New York City public schools, we plan to collect and merge data from two main sources: API data and a secondary dataset in CSV format hosted on GitHub. This merged dataset will allow us to investigate the statistical relationships between school demographics, the effectiveness of special education and ELL programs, and their influence on graduation rates. Through exploratory data analysis, we aim to visualize distributions and correlations, addressing data cleanliness and feature relevance in the process. Ultimately, our goal is to build and evaluate predictive models using machine learning techniques such as linear regression, to  identify key factors that most significantly affect graduation outcomes.\n",
    "\n",
    "### Roles and Responsibilities\n",
    "* Ziqi Huang: Focused on gathering and pre-processing data to maintain its integrity and relevance. Also plays a key role in developing machine learning models for predictive analysis. \n",
    "* Qin Dou: Focuses on performing in-depth statistical analysis and crafting data visualizations that clearly convey the insights derived from the integrated dataset. \n",
    "* Collaborative Effort: Although specific roles are defined, each team member is engaged in every phase of the project, ensuring a comprehensive approach. \n",
    "\n",
    "### Github Repository \n",
    "https://github.com/Francesgaba/GraduationOutcomes"
   ]
  }
 ],
 "metadata": {
  "kernelspec": {
   "display_name": "Python 3 (ipykernel)",
   "language": "python",
   "name": "python3"
  },
  "language_info": {
   "codemirror_mode": {
    "name": "ipython",
    "version": 3
   },
   "file_extension": ".py",
   "mimetype": "text/x-python",
   "name": "python",
   "nbconvert_exporter": "python",
   "pygments_lexer": "ipython3",
   "version": "3.9.13"
  }
 },
 "nbformat": 4,
 "nbformat_minor": 5
}
