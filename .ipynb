{
 "cells": [
  {
   "cell_type": "markdown",
   "metadata": {},
   "source": [
    "# Graduation Outcomes\n",
    "Qing Dou\n",
    "Ziqi Huang"
   ]
  },
  {
   "cell_type": "markdown",
   "metadata": {},
   "source": [
    "## 1 Abstract\n",
    "\n",
    "Use 250 words or less to summarize your problem, methodology, and major outcomes."
   ]
  },
  {
   "cell_type": "markdown",
   "metadata": {},
   "source": [
    "## 2 Introduction\n",
    "\n",
    "Describe your project, including the scientific or business motivation for the research question you have chosen to answer. This section should summarize the content of your Final Project Proposal, so be sure to explain your research question, describe the source and content of the data set you have chosen to work with, and summarize your approach to meeting the requirements for the Project."
   ]
  },
  {
   "cell_type": "code",
   "execution_count": 26,
   "metadata": {},
   "outputs": [
    {
     "data": {
      "text/html": [
       "<div>\n",
       "<style scoped>\n",
       "    .dataframe tbody tr th:only-of-type {\n",
       "        vertical-align: middle;\n",
       "    }\n",
       "\n",
       "    .dataframe tbody tr th {\n",
       "        vertical-align: top;\n",
       "    }\n",
       "\n",
       "    .dataframe thead th {\n",
       "        text-align: right;\n",
       "    }\n",
       "</style>\n",
       "<table border=\"1\" class=\"dataframe\">\n",
       "  <thead>\n",
       "    <tr style=\"text-align: right;\">\n",
       "      <th></th>\n",
       "      <th>dbn</th>\n",
       "      <th>name</th>\n",
       "      <th>schoolyear</th>\n",
       "      <th>fl_percent</th>\n",
       "      <th>total_enrollment</th>\n",
       "      <th>prek</th>\n",
       "      <th>k</th>\n",
       "      <th>grade1</th>\n",
       "      <th>grade2</th>\n",
       "      <th>grade3</th>\n",
       "      <th>...</th>\n",
       "      <th>Regents w/o Advanced - n</th>\n",
       "      <th>Regents w/o Advanced - % of cohort</th>\n",
       "      <th>Regents w/o Advanced - % of grads</th>\n",
       "      <th>Local - n</th>\n",
       "      <th>Local - % of cohort</th>\n",
       "      <th>Local - % of grads</th>\n",
       "      <th>Still Enrolled - n</th>\n",
       "      <th>Still Enrolled - % of cohort</th>\n",
       "      <th>Dropped Out - n</th>\n",
       "      <th>Dropped Out - % of cohort</th>\n",
       "    </tr>\n",
       "  </thead>\n",
       "  <tbody>\n",
       "    <tr>\n",
       "      <th>0</th>\n",
       "      <td>01M015</td>\n",
       "      <td>P.S. 015 ROBERTO CLEMENTE</td>\n",
       "      <td>20052006</td>\n",
       "      <td>89.4</td>\n",
       "      <td>281</td>\n",
       "      <td>15</td>\n",
       "      <td>36</td>\n",
       "      <td>40</td>\n",
       "      <td>33</td>\n",
       "      <td>38</td>\n",
       "      <td>...</td>\n",
       "      <td>NaN</td>\n",
       "      <td>NaN</td>\n",
       "      <td>NaN</td>\n",
       "      <td>NaN</td>\n",
       "      <td>NaN</td>\n",
       "      <td>NaN</td>\n",
       "      <td>NaN</td>\n",
       "      <td>NaN</td>\n",
       "      <td>NaN</td>\n",
       "      <td>NaN</td>\n",
       "    </tr>\n",
       "    <tr>\n",
       "      <th>1</th>\n",
       "      <td>01M015</td>\n",
       "      <td>P.S. 015 ROBERTO CLEMENTE</td>\n",
       "      <td>20062007</td>\n",
       "      <td>89.4</td>\n",
       "      <td>243</td>\n",
       "      <td>15</td>\n",
       "      <td>29</td>\n",
       "      <td>39</td>\n",
       "      <td>38</td>\n",
       "      <td>34</td>\n",
       "      <td>...</td>\n",
       "      <td>NaN</td>\n",
       "      <td>NaN</td>\n",
       "      <td>NaN</td>\n",
       "      <td>NaN</td>\n",
       "      <td>NaN</td>\n",
       "      <td>NaN</td>\n",
       "      <td>NaN</td>\n",
       "      <td>NaN</td>\n",
       "      <td>NaN</td>\n",
       "      <td>NaN</td>\n",
       "    </tr>\n",
       "    <tr>\n",
       "      <th>2</th>\n",
       "      <td>01M015</td>\n",
       "      <td>P.S. 015 ROBERTO CLEMENTE</td>\n",
       "      <td>20072008</td>\n",
       "      <td>89.4</td>\n",
       "      <td>261</td>\n",
       "      <td>18</td>\n",
       "      <td>43</td>\n",
       "      <td>39</td>\n",
       "      <td>36</td>\n",
       "      <td>38</td>\n",
       "      <td>...</td>\n",
       "      <td>NaN</td>\n",
       "      <td>NaN</td>\n",
       "      <td>NaN</td>\n",
       "      <td>NaN</td>\n",
       "      <td>NaN</td>\n",
       "      <td>NaN</td>\n",
       "      <td>NaN</td>\n",
       "      <td>NaN</td>\n",
       "      <td>NaN</td>\n",
       "      <td>NaN</td>\n",
       "    </tr>\n",
       "    <tr>\n",
       "      <th>3</th>\n",
       "      <td>01M015</td>\n",
       "      <td>P.S. 015 ROBERTO CLEMENTE</td>\n",
       "      <td>20082009</td>\n",
       "      <td>89.4</td>\n",
       "      <td>252</td>\n",
       "      <td>17</td>\n",
       "      <td>37</td>\n",
       "      <td>44</td>\n",
       "      <td>32</td>\n",
       "      <td>34</td>\n",
       "      <td>...</td>\n",
       "      <td>NaN</td>\n",
       "      <td>NaN</td>\n",
       "      <td>NaN</td>\n",
       "      <td>NaN</td>\n",
       "      <td>NaN</td>\n",
       "      <td>NaN</td>\n",
       "      <td>NaN</td>\n",
       "      <td>NaN</td>\n",
       "      <td>NaN</td>\n",
       "      <td>NaN</td>\n",
       "    </tr>\n",
       "    <tr>\n",
       "      <th>4</th>\n",
       "      <td>01M015</td>\n",
       "      <td>P.S. 015 ROBERTO CLEMENTE</td>\n",
       "      <td>20092010</td>\n",
       "      <td></td>\n",
       "      <td>208</td>\n",
       "      <td>16</td>\n",
       "      <td>40</td>\n",
       "      <td>28</td>\n",
       "      <td>32</td>\n",
       "      <td>30</td>\n",
       "      <td>...</td>\n",
       "      <td>NaN</td>\n",
       "      <td>NaN</td>\n",
       "      <td>NaN</td>\n",
       "      <td>NaN</td>\n",
       "      <td>NaN</td>\n",
       "      <td>NaN</td>\n",
       "      <td>NaN</td>\n",
       "      <td>NaN</td>\n",
       "      <td>NaN</td>\n",
       "      <td>NaN</td>\n",
       "    </tr>\n",
       "  </tbody>\n",
       "</table>\n",
       "<p>5 rows × 61 columns</p>\n",
       "</div>"
      ],
      "text/plain": [
       "      dbn                       name schoolyear fl_percent total_enrollment  \\\n",
       "0  01M015  P.S. 015 ROBERTO CLEMENTE   20052006       89.4              281   \n",
       "1  01M015  P.S. 015 ROBERTO CLEMENTE   20062007       89.4              243   \n",
       "2  01M015  P.S. 015 ROBERTO CLEMENTE   20072008       89.4              261   \n",
       "3  01M015  P.S. 015 ROBERTO CLEMENTE   20082009       89.4              252   \n",
       "4  01M015  P.S. 015 ROBERTO CLEMENTE   20092010                         208   \n",
       "\n",
       "  prek   k grade1 grade2 grade3  ... Regents w/o Advanced - n  \\\n",
       "0   15  36     40     33     38  ...                      NaN   \n",
       "1   15  29     39     38     34  ...                      NaN   \n",
       "2   18  43     39     36     38  ...                      NaN   \n",
       "3   17  37     44     32     34  ...                      NaN   \n",
       "4   16  40     28     32     30  ...                      NaN   \n",
       "\n",
       "  Regents w/o Advanced - % of cohort Regents w/o Advanced - % of grads  \\\n",
       "0                                NaN                               NaN   \n",
       "1                                NaN                               NaN   \n",
       "2                                NaN                               NaN   \n",
       "3                                NaN                               NaN   \n",
       "4                                NaN                               NaN   \n",
       "\n",
       "  Local - n Local - % of cohort Local - % of grads Still Enrolled - n  \\\n",
       "0       NaN                 NaN                NaN                NaN   \n",
       "1       NaN                 NaN                NaN                NaN   \n",
       "2       NaN                 NaN                NaN                NaN   \n",
       "3       NaN                 NaN                NaN                NaN   \n",
       "4       NaN                 NaN                NaN                NaN   \n",
       "\n",
       "  Still Enrolled - % of cohort Dropped Out - n Dropped Out - % of cohort  \n",
       "0                          NaN             NaN                       NaN  \n",
       "1                          NaN             NaN                       NaN  \n",
       "2                          NaN             NaN                       NaN  \n",
       "3                          NaN             NaN                       NaN  \n",
       "4                          NaN             NaN                       NaN  \n",
       "\n",
       "[5 rows x 61 columns]"
      ]
     },
     "execution_count": 26,
     "metadata": {},
     "output_type": "execute_result"
    }
   ],
   "source": [
    "import requests\n",
    "import pandas as pd\n",
    "\n",
    "def fetch_data(url):\n",
    "    response = requests.get(url)\n",
    "    if response.status_code == 200:\n",
    "        return pd.DataFrame(response.json())\n",
    "    else:\n",
    "        print(f\"Error fetching data: {response.status_code}\")\n",
    "        return None\n",
    "\n",
    "api_url = \"https://data.cityofnewyork.us/resource/ihfw-zy9j.json\"\n",
    "df1 = fetch_data (api_url)\n",
    "\n",
    "def read_csv_from_github(csv_url):\n",
    "    return pd.read_csv(csv_url)\n",
    "\n",
    "csv_url = \"https://raw.githubusercontent.com/qdou14/GraduationOutcomes/main/dataset/2005-2010_Graduation_Outcomes_-_School_Level_20231209.csv\"\n",
    "df2 = read_csv_from_github(csv_url)\n",
    "\n",
    "merged_df = pd.merge(df1, df2, left_on='dbn', right_on='DBN', how='left')\n",
    "\n",
    "merged_df.head()"
   ]
  },
  {
   "cell_type": "markdown",
   "metadata": {},
   "source": [
    "| Column Name                 | Column Description                                                             |\n",
    "|-----------------------------|--------------------------------------------------------------------------------|\n",
    "| Demographic                 | Student's demographic information                                              |\n",
    "| DBN                         | District, Borough and school number                                            |\n",
    "| School Name                 | Name of school                                                                 |\n",
    "| Cohort                      | School year test was administered                                              |\n",
    "| Total Cohort                | Total number of students who took test                                         |\n",
    "| Total Grads - n             | Reflects the total number of students whom graduated                           |\n",
    "| Total Grads - % of Cohort   | Reflects the total percentage of students whom graduated                       |\n",
    "| Total Regents - n           | Total number of student who took Regents                                       |\n",
    "| Total Regents - % of Cohort | Percentages of total Cohorts who passed regents exam                           |\n",
    "| Total Regents - % of Grads  | Percentages of total Cohorts who passed regents and graduated                  |\n",
    "| Advanced Regents - n        | Total number of student who passed advanced regents exams                      |\n",
    "| Advanced Regents - % of Cohort | Percentages of total Cohorts who passed advanced regents                     |\n",
    "| Advanced Regents - % of Grads | Percentages of total Cohorts who passed advanced regents and graduated      |\n",
    "| Regents w/o Advanced - n    | Total number of students who passed non-advanced regents exams                 |\n",
    "| Regents w/o Advanced - % of Cohort | Percentages of total Cohorts who passed non-advanced regents exams         |\n",
    "| Regents w/o Advanced - % of Grads | Percentages of total Cohorts who passed non-advanced regents and graduated |\n",
    "| Local - n                   | Total number of students received a local diploma                              |\n",
    "| Local - % of Cohort         | Percentage of total Cohorts who received a local diploma                       |\n",
    "| Local - % of Grads          | Percentage of total Cohorts who graduated with a local diploma                 |\n",
    "| Still Enrolled - n          | Total number of students still enrolled                                        |\n",
    "| Still Enrolled - % of Cohort | Percentage of total Cohorts students still enrolled                           |\n",
    "| Dropped Out - n             | Total number of students who dropped out                                       |\n",
    "| Dropped Out - % of Cohort   | Percentage of total Cohorts students who dropped out                           |\n",
    "| Name                        | School name                                                                    |\n",
    "| Schoolyear                  | School Year                                                                    |\n",
    "| fl_percent                  | Free lunch                                                                     |\n",
    "| frl_percent                 | Free and reduced lunch                                                         |\n",
    "| total_enrollment            | Total enrollment count of students for all grades by DBN/School per fiscal school year |\n",
    "| prek                        | Total count of pre-kindergarten students by DBN/School per school year        |\n",
    "| k                           | Total count of kindergarten students by DBN/School per school year             |\n",
    "| ell_num                     | Total number of English language learners classes per school                  |\n",
    "| ell_percent                 | Percentage of English language learner's students per school                  |\n",
    "| sped_num                    | Total number of students in special education per school                      |\n",
    "| sped_percent                | Percentage of special education students per school                            |\n",
    "| ctt_num                     | Total number of students in collaborative team teaching classes per school    |\n",
    "| selfcontained_num           | Total number of students in self-contained special classes per school         |\n",
    "| asian_num                   | Total number of Asian students in school                                      |\n",
    "| asian_per                   | Percentage of Asian students in school                                        |\n",
    "| black_num                   | Total number of Black students in school                                      |\n",
    "| black_per                   | Percentage of Black students in school                                        |\n",
    "| hispanic_num                | Total number of Hispanic students in school                                   |\n",
    "| hispanic_per                | Percentage of Hispanic students in school                                     |\n",
    "| white_num                   | Total number of White students in school                                      |\n",
    "| white_per                   | Percentage of White students in school                                        |\n",
    "| male_num                    | Total number of male students in school                                       |\n",
    "| male_per                    | Percentage of male students in school                                         |\n",
    "| female_num                  | Total number of female students in school                                     |\n",
    "| female_per                  | Percentage of female students in school     "
   ]
  },
  {
   "cell_type": "markdown",
   "metadata": {},
   "source": [
    "## 3 Research Approach\n",
    "Explain + present the end-to-end methodology you made use of for all aspects of your Final Project work, including your EDA, data preparation, and investigative analysis work. Be sure to include a description of your data management strategy as part of your narrative."
   ]
  },
  {
   "cell_type": "markdown",
   "metadata": {},
   "source": [
    "### 1 association between students' economic background and educational outcomes\n",
    "\n",
    "* Explore the relationship between family economic status (such as free or reduced-price lunch percentage) and students' graduation rates and exam pass rates.\n",
    "* Relevant columns: fl_percent, frl_percent, Total Grads - % of Cohort, Total Regents"
   ]
  },
  {
   "cell_type": "markdown",
   "metadata": {},
   "source": [
    "### 2 association between school racial diversity background and educational outcomes\n",
    "* Analyze the educational outcomes of students in schools with different racial.\n",
    "* Relevant columns: asian_num, black_num, hispanic_num, white_num, Total Grads - % of Cohort, Total Regents"
   ]
  },
  {
   "cell_type": "markdown",
   "metadata": {},
   "source": [
    "### 3 association between school special education needs and educational outcomes\n",
    "* Analyze the educational outcomes with special education needs (such as English language learners and special education students).\n",
    "* Relevant columns: ell_percent, sped_percent, Total Grads - % of Cohort, Total Regents - % of Cohort"
   ]
  },
  {
   "cell_type": "markdown",
   "metadata": {},
   "source": [
    "### 4 association between gender ratio needs and educational outcomes\n",
    "* Analyze the educational outcomes with the ratio of male and female students.\n",
    "* Relevant columns:  male_num, female_num, Total Grads - % of Cohort, Total Regents "
   ]
  },
  {
   "cell_type": "markdown",
   "metadata": {},
   "source": [
    "### 4 association between gender ratio needs and educational outcomes\n",
    "* Analyze the educational outcomes with the ratio of male and female students.\n",
    "* Relevant columns:  male_num, female_num, Total Grads - % of Cohort, Total Regents "
   ]
  },
  {
   "cell_type": "markdown",
   "metadata": {},
   "source": [
    "### 5 association between different school and educational outcomes\n",
    "* Relevant columns:  School Name, DBN, Total Grads - % of Cohort, Total Regents"
   ]
  },
  {
   "cell_type": "markdown",
   "metadata": {},
   "source": [
    "### 6 Destination after graduation\n",
    "* Relevant columns:  Still Enrolled - n, Local - n, Dropped Out - n"
   ]
  },
  {
   "cell_type": "markdown",
   "metadata": {},
   "source": [
    "### 7 association between different Dropout Rates and school\n",
    "* Relevant columns:  DBN, School Name, Dropped Out - % of Cohort"
   ]
  },
  {
   "cell_type": "markdown",
   "metadata": {},
   "source": [
    "## 4 Exploratory Data Analysis\n",
    "Explain + present your EDA work including any conclusions you draw from your analysis, including any preliminary predictive inferences. This section should include any Python code used for the EDA."
   ]
  },
  {
   "cell_type": "markdown",
   "metadata": {},
   "source": [
    "## 5 Data Preparation\n",
    "Describe + show the steps you have taken to address the data integrity + usability issues you identified in your EDA, including any feature engineering techniques you have applied to the data set. This section should include any Python code used for Data Preparation."
   ]
  },
  {
   "cell_type": "markdown",
   "metadata": {},
   "source": [
    "## 6 Prepped Data Review\n",
    "Explain + present your post-Data Prep EDA analysis. This section should include any Python code used for re-running your EDA on the variables adjusted during your Data Preparation work."
   ]
  },
  {
   "cell_type": "markdown",
   "metadata": {},
   "source": [
    "## 7 Investigative Analysis & Results\n",
    "Explain + present your investigative analysis work, including any Python code used as part of that process. Provide and explain your answers to your research questions."
   ]
  },
  {
   "cell_type": "markdown",
   "metadata": {},
   "source": [
    "## 8 Conclusions\n",
    "Summarize your work and clearly state the conclusions of your research. Were you able to answer the research questions you originally posed in your Proposal? Comment on any potential future extensions of the work you’ve completed for the Project."
   ]
  }
 ],
 "metadata": {
  "kernelspec": {
   "display_name": "Python 3",
   "language": "python",
   "name": "python3"
  },
  "language_info": {
   "codemirror_mode": {
    "name": "ipython",
    "version": 3
   },
   "file_extension": ".py",
   "mimetype": "text/x-python",
   "name": "python",
   "nbconvert_exporter": "python",
   "pygments_lexer": "ipython3",
   "version": "3.9.12"
  }
 },
 "nbformat": 4,
 "nbformat_minor": 2
}
